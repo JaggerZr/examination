{
 "cells": [
  {
   "cell_type": "code",
   "execution_count": 1,
   "metadata": {},
   "outputs": [
    {
     "name": "stdout",
     "output_type": "stream",
     "text": [
      "{'data': 'How was the professor Nancy Carlin for TA 10 and Queer Art with lark alder', 'class': 'teacher_query'}\n",
      "{'data': 'who created rumibot', 'class': 'teacher_query'}\n",
      "{'data': 'who are the professors for world history and us history', 'class': 'teacher_query'}\n",
      "{'data': 'Who is the horniest person on campus', 'class': 'teacher_query'}\n",
      "{'data': 'best general education teachers for required classes?', 'class': 'teacher_query'}\n"
     ]
    }
   ],
   "source": [
    "import os\n",
    "\n",
    "# 定义保存数据的列表\n",
    "data_list = []\n",
    "\n",
    "# 设置目录路径\n",
    "directory = 'kmeans_clustered_sentences'\n",
    "\n",
    "# 遍历目录下的每个文件\n",
    "for filename in os.listdir(directory):\n",
    "    if filename.endswith(\".txt\"):  # 确保只读取 .txt 文件\n",
    "        class_name = filename.replace(\".txt\", \"\")  # 获取文件名作为 class 值\n",
    "        file_path = os.path.join(directory, filename)\n",
    "        \n",
    "        # 读取文件的每一行\n",
    "        with open(file_path, 'r', encoding='utf-8') as f:\n",
    "            for line in f:\n",
    "                # 组成字典，包含 data 和 class 两个字段\n",
    "                data_dict = {\n",
    "                    \"data\": line.strip(),  # 去掉行末的换行符\n",
    "                    \"class\": class_name\n",
    "                }\n",
    "                data_list.append(data_dict)  # 将字典添加到列表中\n",
    "\n",
    "# 打印部分数据，验证结果\n",
    "for item in data_list[:5]:  # 只显示前5条\n",
    "    print(item)\n"
   ]
  },
  {
   "cell_type": "code",
   "execution_count": 2,
   "metadata": {},
   "outputs": [
    {
     "name": "stderr",
     "output_type": "stream",
     "text": [
      "/home/zhangrui/anaconda3/envs/rag_benchmark/lib/python3.10/site-packages/tqdm/auto.py:21: TqdmWarning: IProgress not found. Please update jupyter and ipywidgets. See https://ipywidgets.readthedocs.io/en/stable/user_install.html\n",
      "  from .autonotebook import tqdm as notebook_tqdm\n",
      "/home/zhangrui/anaconda3/envs/rag_benchmark/lib/python3.10/site-packages/huggingface_hub/file_download.py:1132: FutureWarning: `resume_download` is deprecated and will be removed in version 1.0.0. Downloads always resume when possible. If you want to force a new download, use `force_download=True`.\n",
      "  warnings.warn(\n",
      "/home/zhangrui/anaconda3/envs/rag_benchmark/lib/python3.10/site-packages/huggingface_hub/file_download.py:1132: FutureWarning: `resume_download` is deprecated and will be removed in version 1.0.0. Downloads always resume when possible. If you want to force a new download, use `force_download=True`.\n",
      "  warnings.warn(\n"
     ]
    },
    {
     "name": "stdout",
     "output_type": "stream",
     "text": [
      "LLM is explicitly disabled. Using MockLLM.\n"
     ]
    }
   ],
   "source": [
    "import os\n",
    "import tiktoken\n",
    "from llama_index.core import Settings\n",
    "from llama_index.embeddings.huggingface import HuggingFaceEmbedding\n",
    "from llama_index.core import VectorStoreIndex, SimpleDirectoryReader\n",
    "from llama_index.llms.openai import OpenAI\n",
    "from llama_index.core.node_parser import SentenceSplitter\n",
    "from llama_index.core.schema import TextNode, NodeWithScore\n",
    "from llama_index.core.retrievers import BaseRetriever\n",
    "from tqdm import tqdm\n",
    "from typing import Any, List\n",
    "from llama_index.core import (\n",
    "    QueryBundle,\n",
    "    PromptTemplate,\n",
    "    VectorStoreIndex,\n",
    "    StorageContext,\n",
    "    load_index_from_storage,\n",
    ")\n",
    "\n",
    "# loads BAAI/bge-small-en-v1.5\n",
    "embed_model = HuggingFaceEmbedding(model_name=\"BAAI/bge-base-en-v1.5\")\n",
    "# 分词器\n",
    "tokenizer = tiktoken.get_encoding(\"cl100k_base\")\n",
    "\n",
    "# 全局设\n",
    "Settings.embed_model = embed_model\n",
    "Settings.tokenizer = tokenizer\n",
    "Settings.llm = None"
   ]
  },
  {
   "cell_type": "code",
   "execution_count": 3,
   "metadata": {},
   "outputs": [
    {
     "data": {
      "text/plain": [
       "790"
      ]
     },
     "execution_count": 3,
     "metadata": {},
     "output_type": "execute_result"
    }
   ],
   "source": [
    "from llama_index.core.schema import TextNode\n",
    "\n",
    "node_list=[]\n",
    "\n",
    "for item in data_list:\n",
    "    text = item['data']\n",
    "    node = TextNode(text=text, metadata={'class':item['class']})\n",
    "    node_list.append(node)\n",
    "\n",
    "len(node_list)"
   ]
  },
  {
   "cell_type": "code",
   "execution_count": 4,
   "metadata": {},
   "outputs": [],
   "source": [
    "# check if storage already exists\n",
    "PERSIST_DIR = \"./baseline_index\"\n",
    "if not os.path.exists(PERSIST_DIR):\n",
    "    # load the documents and create the index\n",
    "    index = VectorStoreIndex(node_list)\n",
    "    # store it for later\n",
    "    index.storage_context.persist(persist_dir=PERSIST_DIR)\n",
    "else:\n",
    "    # load the existing index\n",
    "    storage_context = StorageContext.from_defaults(persist_dir=PERSIST_DIR)\n",
    "    index = load_index_from_storage(storage_context)"
   ]
  },
  {
   "cell_type": "code",
   "execution_count": 8,
   "metadata": {},
   "outputs": [
    {
     "data": {
      "text/plain": [
       "[NodeWithScore(node=TextNode(id_='896646fd-8d14-4a96-b059-5c7f19cccb6f', embedding=None, metadata={'class': 'school_cost'}, excluded_embed_metadata_keys=[], excluded_llm_metadata_keys=[], relationships={}, text='how long do I have before my credits expire?', mimetype='text/plain', start_char_idx=None, end_char_idx=None, text_template='{metadata_str}\\n\\n{content}', metadata_template='{key}: {value}', metadata_seperator='\\n'), score=0.6362690899422986),\n",
       " NodeWithScore(node=TextNode(id_='4af043d6-341d-465b-8fcd-cffe32909fc6', embedding=None, metadata={'class': 'class_select'}, excluded_embed_metadata_keys=[], excluded_llm_metadata_keys=[], relationships={}, text='what classes do I need to complete as a transfer student studying finance and minoring in marketing', mimetype='text/plain', start_char_idx=None, end_char_idx=None, text_template='{metadata_str}\\n\\n{content}', metadata_template='{key}: {value}', metadata_seperator='\\n'), score=0.6232114639331159),\n",
       " NodeWithScore(node=TextNode(id_='28945899-b7d1-4d0e-a255-6eddf2d757bf', embedding=None, metadata={'class': 'class_select'}, excluded_embed_metadata_keys=[], excluded_llm_metadata_keys=[], relationships={}, text='show me the classes I need to take for a 2 year plan for a BS in finance with a minor in marketing', mimetype='text/plain', start_char_idx=None, end_char_idx=None, text_template='{metadata_str}\\n\\n{content}', metadata_template='{key}: {value}', metadata_seperator='\\n'), score=0.6222836190341307),\n",
       " NodeWithScore(node=TextNode(id_='7867f22f-5976-48d8-b476-43b7193f6bf8', embedding=None, metadata={'class': 'class_select'}, excluded_embed_metadata_keys=[], excluded_llm_metadata_keys=[], relationships={}, text=\"i am a first year data science major, the ge's i have left are A1 a2 a3, what classes should i take? ask me questions if needed\", mimetype='text/plain', start_char_idx=None, end_char_idx=None, text_template='{metadata_str}\\n\\n{content}', metadata_template='{key}: {value}', metadata_seperator='\\n'), score=0.62205935223079),\n",
       " NodeWithScore(node=TextNode(id_='59c25591-7ca7-4030-8ebe-1416bd348587', embedding=None, metadata={'class': 'class_select'}, excluded_embed_metadata_keys=[], excluded_llm_metadata_keys=[], relationships={}, text=\"I failed two classes for this spring semester. I received bad grades for two math classes math108 and math 161a. I tried to retake it for the fall semester, but it won't let me to retake because  I already took it for the spring semester. what should I do the retake Math108 and 161a coursed in the fall semester?\", mimetype='text/plain', start_char_idx=None, end_char_idx=None, text_template='{metadata_str}\\n\\n{content}', metadata_template='{key}: {value}', metadata_seperator='\\n'), score=0.6188388339124005)]"
      ]
     },
     "execution_count": 8,
     "metadata": {},
     "output_type": "execute_result"
    }
   ],
   "source": [
    "query = \"I don't have enough credits. Can you help me find out which courses in the school are worth 3 credits?\"\n",
    "vector_retriever = index.as_retriever(similarity_top_k=5)\n",
    "nodes = vector_retriever.retrieve(query)\n",
    "\n",
    "nodes"
   ]
  },
  {
   "cell_type": "code",
   "execution_count": 14,
   "metadata": {},
   "outputs": [
    {
     "name": "stdout",
     "output_type": "stream",
     "text": [
      "得分最高的 class: class_select，总得分: 2.4863932691104367\n"
     ]
    }
   ],
   "source": [
    "# 用于累加每个 class 的 score\n",
    "class_scores = {}\n",
    "\n",
    "# 累加每个 class 的 score\n",
    "for node in nodes:\n",
    "    class_name = node.metadata['class']  # 获取 class 信息\n",
    "    score = node.score  # 获取该节点的 score\n",
    "    \n",
    "    # 如果该 class 已存在于字典中，累加 score，否则初始化\n",
    "    if class_name in class_scores:\n",
    "        class_scores[class_name] += score\n",
    "    else:\n",
    "        class_scores[class_name] = score\n",
    "\n",
    "# 找到总分最高的 class\n",
    "max_class = max(class_scores, key=class_scores.get)\n",
    "max_score = class_scores[max_class]\n",
    "\n",
    "# 输出总分最高的 class 及其得分\n",
    "print(f\"得分最高的 class: {max_class}，总得分: {max_score}\")"
   ]
  },
  {
   "cell_type": "code",
   "execution_count": null,
   "metadata": {},
   "outputs": [],
   "source": []
  }
 ],
 "metadata": {
  "kernelspec": {
   "display_name": "chatbot",
   "language": "python",
   "name": "python3"
  },
  "language_info": {
   "codemirror_mode": {
    "name": "ipython",
    "version": 3
   },
   "file_extension": ".py",
   "mimetype": "text/x-python",
   "name": "python",
   "nbconvert_exporter": "python",
   "pygments_lexer": "ipython3",
   "version": "3.10.14"
  }
 },
 "nbformat": 4,
 "nbformat_minor": 2
}
